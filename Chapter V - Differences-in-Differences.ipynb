{
 "cells": [
  {
   "cell_type": "markdown",
   "metadata": {},
   "source": [
    "# Mastring Metrics\n",
    "## Chapter 5\n",
    "### Differences-in-Differences\n",
    "Analysis of the effect of monetary policy on bank failures in Mississippi"
   ]
  },
  {
   "cell_type": "code",
   "execution_count": 78,
   "metadata": {},
   "outputs": [],
   "source": [
    "import pandas as pd\n",
    "import numpy as np\n",
    "import matplotlib.pyplot as plt"
   ]
  },
  {
   "cell_type": "markdown",
   "metadata": {},
   "source": [
    "The data consists of number of banks in buisness and operation in each day of the years 1929 through 1934 in Mississippi."
   ]
  },
  {
   "cell_type": "code",
   "execution_count": 29,
   "metadata": {},
   "outputs": [
    {
     "data": {
      "text/html": [
       "<div>\n",
       "<style scoped>\n",
       "    .dataframe tbody tr th:only-of-type {\n",
       "        vertical-align: middle;\n",
       "    }\n",
       "\n",
       "    .dataframe tbody tr th {\n",
       "        vertical-align: top;\n",
       "    }\n",
       "\n",
       "    .dataframe thead th {\n",
       "        text-align: right;\n",
       "    }\n",
       "</style>\n",
       "<table border=\"1\" class=\"dataframe\">\n",
       "  <thead>\n",
       "    <tr style=\"text-align: right;\">\n",
       "      <th></th>\n",
       "      <th>date</th>\n",
       "      <th>weekday</th>\n",
       "      <th>day</th>\n",
       "      <th>month</th>\n",
       "      <th>year</th>\n",
       "      <th>bib6</th>\n",
       "      <th>bio6</th>\n",
       "      <th>bib8</th>\n",
       "      <th>bio8</th>\n",
       "    </tr>\n",
       "  </thead>\n",
       "  <tbody>\n",
       "    <tr>\n",
       "      <th>0</th>\n",
       "      <td>10775</td>\n",
       "      <td>Monday</td>\n",
       "      <td>1</td>\n",
       "      <td>7</td>\n",
       "      <td>1929</td>\n",
       "      <td>141</td>\n",
       "      <td>141</td>\n",
       "      <td>169</td>\n",
       "      <td>169</td>\n",
       "    </tr>\n",
       "    <tr>\n",
       "      <th>1</th>\n",
       "      <td>10776</td>\n",
       "      <td>Tuesday</td>\n",
       "      <td>2</td>\n",
       "      <td>7</td>\n",
       "      <td>1929</td>\n",
       "      <td>141</td>\n",
       "      <td>141</td>\n",
       "      <td>169</td>\n",
       "      <td>169</td>\n",
       "    </tr>\n",
       "    <tr>\n",
       "      <th>2</th>\n",
       "      <td>10777</td>\n",
       "      <td>Wednesday</td>\n",
       "      <td>3</td>\n",
       "      <td>7</td>\n",
       "      <td>1929</td>\n",
       "      <td>141</td>\n",
       "      <td>141</td>\n",
       "      <td>169</td>\n",
       "      <td>169</td>\n",
       "    </tr>\n",
       "    <tr>\n",
       "      <th>3</th>\n",
       "      <td>10778</td>\n",
       "      <td>Thursday</td>\n",
       "      <td>4</td>\n",
       "      <td>7</td>\n",
       "      <td>1929</td>\n",
       "      <td>141</td>\n",
       "      <td>141</td>\n",
       "      <td>169</td>\n",
       "      <td>169</td>\n",
       "    </tr>\n",
       "    <tr>\n",
       "      <th>4</th>\n",
       "      <td>10779</td>\n",
       "      <td>Friday</td>\n",
       "      <td>5</td>\n",
       "      <td>7</td>\n",
       "      <td>1929</td>\n",
       "      <td>141</td>\n",
       "      <td>141</td>\n",
       "      <td>169</td>\n",
       "      <td>169</td>\n",
       "    </tr>\n",
       "  </tbody>\n",
       "</table>\n",
       "</div>"
      ],
      "text/plain": [
       "    date    weekday  day  month  year  bib6  bio6  bib8  bio8\n",
       "0  10775     Monday    1      7  1929   141   141   169   169\n",
       "1  10776    Tuesday    2      7  1929   141   141   169   169\n",
       "2  10777  Wednesday    3      7  1929   141   141   169   169\n",
       "3  10778   Thursday    4      7  1929   141   141   169   169\n",
       "4  10779     Friday    5      7  1929   141   141   169   169"
      ]
     },
     "execution_count": 29,
     "metadata": {},
     "output_type": "execute_result"
    }
   ],
   "source": [
    "banks = pd.read_csv('data/banks.csv')\n",
    "banks.head()"
   ]
  },
  {
   "cell_type": "code",
   "execution_count": 70,
   "metadata": {},
   "outputs": [
    {
     "data": {
      "text/plain": [
       "135"
      ]
     },
     "execution_count": 70,
     "metadata": {},
     "output_type": "execute_result"
    }
   ],
   "source": [
    "Y6_1930 = int(banks[(banks['year'] == 1930) & (banks['month']==7) & (banks['day']==1)]['bib6'].to_string(index=False))\n",
    "Y6_1930 "
   ]
  },
  {
   "cell_type": "code",
   "execution_count": 71,
   "metadata": {},
   "outputs": [
    {
     "data": {
      "text/plain": [
       "165"
      ]
     },
     "execution_count": 71,
     "metadata": {},
     "output_type": "execute_result"
    }
   ],
   "source": [
    "Y8_1930 = int(banks[(banks['year'] == 1930) & (banks['month']==7) & (banks['day']==1)]['bib8'].to_string(index=False))\n",
    "Y8_1930 "
   ]
  },
  {
   "cell_type": "code",
   "execution_count": 72,
   "metadata": {},
   "outputs": [
    {
     "data": {
      "text/plain": [
       "121"
      ]
     },
     "execution_count": 72,
     "metadata": {},
     "output_type": "execute_result"
    }
   ],
   "source": [
    "Y6_1931 = int(banks[(banks['year'] == 1931) & (banks['month']==7) & (banks['day']==1)]['bib6'].to_string(index=False))\n",
    "Y6_1931 "
   ]
  },
  {
   "cell_type": "code",
   "execution_count": 74,
   "metadata": {},
   "outputs": [
    {
     "data": {
      "text/plain": [
       "132"
      ]
     },
     "execution_count": 74,
     "metadata": {},
     "output_type": "execute_result"
    }
   ],
   "source": [
    "Y8_1931 = int(banks[(banks['year'] == 1931) & (banks['month']==7) & (banks['day']==1)]['bib8'].to_string(index=False))\n",
    "Y8_1931 "
   ]
  },
  {
   "cell_type": "code",
   "execution_count": 76,
   "metadata": {},
   "outputs": [
    {
     "data": {
      "text/plain": [
       "19"
      ]
     },
     "execution_count": 76,
     "metadata": {},
     "output_type": "execute_result"
    }
   ],
   "source": [
    "delta_DD = (Y6_1931-Y6_1930) - (Y8_1931 - Y8_1930)\n",
    "delta_DD"
   ]
  },
  {
   "cell_type": "code",
   "execution_count": 77,
   "metadata": {},
   "outputs": [
    {
     "data": {
      "text/plain": [
       "19"
      ]
     },
     "execution_count": 77,
     "metadata": {},
     "output_type": "execute_result"
    }
   ],
   "source": [
    "delta_DD2 = (Y6_1931-Y8_1931) - (Y6_1930 - Y8_1930)\n",
    "delta_DD2"
   ]
  },
  {
   "cell_type": "markdown",
   "metadata": {},
   "source": [
    "Plotting figure 5.1 in the textbook, based on the above values:"
   ]
  },
  {
   "cell_type": "code",
   "execution_count": 97,
   "metadata": {},
   "outputs": [
    {
     "data": {
      "image/png": "[encoded data removed]",
      "text/plain": [
       "<matplotlib.figure.Figure at 0xbc40b38>"
      ]
     },
     "metadata": {},
     "output_type": "display_data"
    }
   ],
   "source": [
    "import matplotlib.ticker as mticker\n",
    "\n",
    "X = [1930, 1931]\n",
    "Y6 = [Y6_1930, Y6_1931]\n",
    "Y8 = [Y8_1930, Y8_1931]\n",
    "CF = [Y6_1930, Y6_1931 - delta_DD]\n",
    "plt.plot(X, Y6, X, Y8, X, CF, 'g--')\n",
    "plt.gca().xaxis.set_major_locator(mticker.MultipleLocator(1))\n",
    "plt.xlabel(\"Year\")\n",
    "plt.ylabel(\"Number of Banks in Business\")\n",
    "plt.legend(('Sixth Disctrict', 'Eighth District', 'Sixth Discrict Counterfactual'))\n",
    "plt.show()"
   ]
  },
  {
   "cell_type": "markdown",
   "metadata": {},
   "source": [
    "Extracting the related data for Figure 5.2 in the text book."
   ]
  },
  {
   "cell_type": "code",
   "execution_count": 107,
   "metadata": {},
   "outputs": [
    {
     "data": {
      "text/plain": [
       "[1929, 1930, 1931, 1932, 1933, 1934]"
      ]
     },
     "execution_count": 107,
     "metadata": {},
     "output_type": "execute_result"
    }
   ],
   "source": [
    "Years = list(banks['year'].unique())\n",
    "Years"
   ]
  },
  {
   "cell_type": "code",
   "execution_count": 119,
   "metadata": {},
   "outputs": [
    {
     "data": {
      "text/plain": [
       "[141, 135, 121, 113, 102, 102]"
      ]
     },
     "execution_count": 119,
     "metadata": {},
     "output_type": "execute_result"
    }
   ],
   "source": [
    "Y6=[]\n",
    "for year in Years:\n",
    "    Y6.append(int(banks[(banks['year'] == year) & (banks['month']==7) & (banks['day']==1)]['bib6'].to_string(index=False)))\n",
    "Y6"
   ]
  },
  {
   "cell_type": "code",
   "execution_count": 120,
   "metadata": {},
   "outputs": [
    {
     "data": {
      "text/plain": [
       "[169, 165, 132, 120, 111, 109]"
      ]
     },
     "execution_count": 120,
     "metadata": {},
     "output_type": "execute_result"
    }
   ],
   "source": [
    "Y8=[]\n",
    "for year in Years:\n",
    "    Y8.append(int(banks[(banks['year'] == year) & (banks['month']==7) & (banks['day']==1)]['bib8'].to_string(index=False)))\n",
    "Y8"
   ]
  },
  {
   "cell_type": "code",
   "execution_count": 121,
   "metadata": {},
   "outputs": [
    {
     "data": {
      "text/plain": [
       "6"
      ]
     },
     "execution_count": 121,
     "metadata": {},
     "output_type": "execute_result"
    }
   ],
   "source": [
    "len(Y6)"
   ]
  },
  {
   "cell_type": "markdown",
   "metadata": {},
   "source": [
    "Plotting figure 5.2 in the textbook, based on the above values:"
   ]
  },
  {
   "cell_type": "code",
   "execution_count": 122,
   "metadata": {},
   "outputs": [
    {
     "data": {
      "image/png": "[encoded data removed]",
      "text/plain": [
       "<matplotlib.figure.Figure at 0xb999400>"
      ]
     },
     "metadata": {},
     "output_type": "display_data"
    }
   ],
   "source": [
    "plt.plot(Years, Y6, Years, Y8)\n",
    "plt.xlabel(\"Year\")\n",
    "plt.ylabel(\"Number of Banks in Business\")\n",
    "plt.legend(('Sixth Disctrict', 'Eighth District'))\n",
    "plt.show()"
   ]
  },
  {
   "cell_type": "markdown",
   "metadata": {},
   "source": [
    "Calculating the counterfactuals:"
   ]
  },
  {
   "cell_type": "code",
   "execution_count": 127,
   "metadata": {},
   "outputs": [
    {
     "data": {
      "text/plain": [
       "[135, 102, 90, 81, 79]"
      ]
     },
     "execution_count": 127,
     "metadata": {},
     "output_type": "execute_result"
    }
   ],
   "source": [
    "CF = []\n",
    "CF_Year = []\n",
    "for i in range(len(Years)):\n",
    "    if Years[i] >= 1930:\n",
    "        CF_Year.append(Years[i])\n",
    "        delta = (Y6[i]-Y6_1930)-(Y8[i]-Y8_1930)\n",
    "        CF.append(Y6[i]-delta)\n",
    "#     elif Years[i] = 1930:\n",
    "#         CF_Year.append(Years[i])\n",
    "#         CF.append(Y6[i])\n",
    "CF"
   ]
  },
  {
   "cell_type": "markdown",
   "metadata": {},
   "source": [
    "Plotting figure 5.3 in the textbook:"
   ]
  },
  {
   "cell_type": "code",
   "execution_count": 130,
   "metadata": {},
   "outputs": [
    {
     "data": {
      "image/png": "[encoded data removed]",
      "text/plain": [
       "<matplotlib.figure.Figure at 0xb9d8860>"
      ]
     },
     "metadata": {},
     "output_type": "display_data"
    }
   ],
   "source": [
    "plt.plot(Years, Y6, Years, Y8, CF_Year, CF, 'g--')\n",
    "# plt.gca().xaxis.set_major_locator(mticker.MultipleLocator(1))\n",
    "plt.xlabel(\"Year\")\n",
    "plt.ylabel(\"Number of Banks in Business\")\n",
    "plt.legend(('Sixth Disctrict', 'Eighth District', 'Sixth Disctrict Counterfactual'))\n",
    "plt.show()"
   ]
  },
  {
   "cell_type": "markdown",
   "metadata": {},
   "source": [
    "The dashed line depicts the counterfactual evolution of the number of banks in the sixth district if the same number of banks had failed in that district after 1930 as did in the eighth."
   ]
  },
  {
   "cell_type": "markdown",
   "metadata": {},
   "source": [
    "### Just DDo It: A Depression Regression\n",
    "The simplest DD calculation involves only four numbers (as in ``delta_DD`` or ``delta_DD2``). In practice, however, the DD recipe is best cooked with regression models fit to samples of more than four data points, such as the 12 points plotted in Figure 5.2.\n",
    "The regression DD recipe associated with Figure 5.2 has three ingredients:\n",
    "1. A dummy for the treatment district, written $TREAT_d$, where the subscript $d$ reminds us that this varies across districts; $TREAT_d$ controls for fixed differences between the units being compared.\n",
    "2. A dummy for post-treatment periods, written $POST_t$, where the subscript $t$ reminds us that this varies over time; $POST_t$ controls for the fact that conditions change over time for everyone, whether treated or not.\n",
    "3. The interaction term, $TREAT_d \\times POST_t$, generated by multiplying these two dummies; the coefficient on this term is the DD causal effect.\n",
    "Regression DD for the Mississippi experiments puts these pieces together by estimating\n",
    "$$Y_{dt}=\\alpha + \\beta TREAT_d+\\gamma POST_t +\\delta_{rDD}(TREAT_d \\times POST_t)+e_{dt}$$"
   ]
  },
  {
   "cell_type": "code",
   "execution_count": 136,
   "metadata": {},
   "outputs": [
    {
     "data": {
      "text/html": [
       "<div>\n",
       "<style scoped>\n",
       "    .dataframe tbody tr th:only-of-type {\n",
       "        vertical-align: middle;\n",
       "    }\n",
       "\n",
       "    .dataframe tbody tr th {\n",
       "        vertical-align: top;\n",
       "    }\n",
       "\n",
       "    .dataframe thead th {\n",
       "        text-align: right;\n",
       "    }\n",
       "</style>\n",
       "<table border=\"1\" class=\"dataframe\">\n",
       "  <thead>\n",
       "    <tr style=\"text-align: right;\">\n",
       "      <th></th>\n",
       "      <th>Treat_d</th>\n",
       "      <th>Post_t</th>\n",
       "      <th>TreatPost</th>\n",
       "      <th>Ydt</th>\n",
       "    </tr>\n",
       "  </thead>\n",
       "  <tbody>\n",
       "    <tr>\n",
       "      <th>1</th>\n",
       "      <td>1</td>\n",
       "      <td>0</td>\n",
       "      <td>0</td>\n",
       "      <td>141</td>\n",
       "    </tr>\n",
       "    <tr>\n",
       "      <th>2</th>\n",
       "      <td>1</td>\n",
       "      <td>0</td>\n",
       "      <td>0</td>\n",
       "      <td>135</td>\n",
       "    </tr>\n",
       "    <tr>\n",
       "      <th>3</th>\n",
       "      <td>1</td>\n",
       "      <td>1</td>\n",
       "      <td>1</td>\n",
       "      <td>121</td>\n",
       "    </tr>\n",
       "    <tr>\n",
       "      <th>4</th>\n",
       "      <td>1</td>\n",
       "      <td>1</td>\n",
       "      <td>1</td>\n",
       "      <td>113</td>\n",
       "    </tr>\n",
       "    <tr>\n",
       "      <th>5</th>\n",
       "      <td>1</td>\n",
       "      <td>1</td>\n",
       "      <td>1</td>\n",
       "      <td>102</td>\n",
       "    </tr>\n",
       "    <tr>\n",
       "      <th>6</th>\n",
       "      <td>1</td>\n",
       "      <td>1</td>\n",
       "      <td>1</td>\n",
       "      <td>102</td>\n",
       "    </tr>\n",
       "    <tr>\n",
       "      <th>7</th>\n",
       "      <td>0</td>\n",
       "      <td>0</td>\n",
       "      <td>0</td>\n",
       "      <td>169</td>\n",
       "    </tr>\n",
       "    <tr>\n",
       "      <th>8</th>\n",
       "      <td>0</td>\n",
       "      <td>0</td>\n",
       "      <td>0</td>\n",
       "      <td>165</td>\n",
       "    </tr>\n",
       "    <tr>\n",
       "      <th>9</th>\n",
       "      <td>0</td>\n",
       "      <td>1</td>\n",
       "      <td>0</td>\n",
       "      <td>132</td>\n",
       "    </tr>\n",
       "    <tr>\n",
       "      <th>10</th>\n",
       "      <td>0</td>\n",
       "      <td>1</td>\n",
       "      <td>0</td>\n",
       "      <td>120</td>\n",
       "    </tr>\n",
       "    <tr>\n",
       "      <th>11</th>\n",
       "      <td>0</td>\n",
       "      <td>1</td>\n",
       "      <td>0</td>\n",
       "      <td>111</td>\n",
       "    </tr>\n",
       "    <tr>\n",
       "      <th>12</th>\n",
       "      <td>0</td>\n",
       "      <td>1</td>\n",
       "      <td>0</td>\n",
       "      <td>109</td>\n",
       "    </tr>\n",
       "  </tbody>\n",
       "</table>\n",
       "</div>"
      ],
      "text/plain": [
       "    Treat_d  Post_t  TreatPost  Ydt\n",
       "1         1       0          0  141\n",
       "2         1       0          0  135\n",
       "3         1       1          1  121\n",
       "4         1       1          1  113\n",
       "5         1       1          1  102\n",
       "6         1       1          1  102\n",
       "7         0       0          0  169\n",
       "8         0       0          0  165\n",
       "9         0       1          0  132\n",
       "10        0       1          0  120\n",
       "11        0       1          0  111\n",
       "12        0       1          0  109"
      ]
     },
     "execution_count": 136,
     "metadata": {},
     "output_type": "execute_result"
    }
   ],
   "source": [
    "newdata = {'Treat_d':[1, 1, 1, 1, 1, 1, 0, 0, 0, 0, 0, 0],\\\n",
    "           'Post_t':[0, 0, 1, 1, 1, 1, 0, 0, 1, 1, 1, 1],\\\n",
    "           'TreatPost':[0, 0, 1, 1, 1, 1, 0, 0, 0, 0, 0, 0],\\\n",
    "           'Ydt': Y6+Y8\n",
    "        }\n",
    "df2 = pd.DataFrame(newdata, columns =['Treat_d', 'Post_t', 'TreatPost', 'Ydt'])\n",
    "df2.index += 1\n",
    "df2"
   ]
  },
  {
   "cell_type": "code",
   "execution_count": 137,
   "metadata": {},
   "outputs": [
    {
     "data": {
      "text/html": [
       "<table class=\"simpletable\">\n",
       "<caption>OLS Regression Results</caption>\n",
       "<tr>\n",
       "  <th>Dep. Variable:</th>           <td>Ydt</td>       <th>  R-squared:         </th> <td>   0.891</td>\n",
       "</tr>\n",
       "<tr>\n",
       "  <th>Model:</th>                   <td>OLS</td>       <th>  Adj. R-squared:    </th> <td>   0.850</td>\n",
       "</tr>\n",
       "<tr>\n",
       "  <th>Method:</th>             <td>Least Squares</td>  <th>  F-statistic:       </th> <td>   21.71</td>\n",
       "</tr>\n",
       "<tr>\n",
       "  <th>Date:</th>             <td>Wed, 10 Jun 2020</td> <th>  Prob (F-statistic):</th> <td>0.000337</td>\n",
       "</tr>\n",
       "<tr>\n",
       "  <th>Time:</th>                 <td>21:59:43</td>     <th>  Log-Likelihood:    </th> <td> -40.628</td>\n",
       "</tr>\n",
       "<tr>\n",
       "  <th>No. Observations:</th>      <td>    12</td>      <th>  AIC:               </th> <td>   89.26</td>\n",
       "</tr>\n",
       "<tr>\n",
       "  <th>Df Residuals:</th>          <td>     8</td>      <th>  BIC:               </th> <td>   91.20</td>\n",
       "</tr>\n",
       "<tr>\n",
       "  <th>Df Model:</th>              <td>     3</td>      <th>                     </th>     <td> </td>   \n",
       "</tr>\n",
       "<tr>\n",
       "  <th>Covariance Type:</th>      <td>nonrobust</td>    <th>                     </th>     <td> </td>   \n",
       "</tr>\n",
       "</table>\n",
       "<table class=\"simpletable\">\n",
       "<tr>\n",
       "      <td></td>         <th>coef</th>     <th>std err</th>      <th>t</th>      <th>P>|t|</th>  <th>[0.025</th>    <th>0.975]</th>  \n",
       "</tr>\n",
       "<tr>\n",
       "  <th>const</th>     <td>  167.0000</td> <td>    6.190</td> <td>   26.980</td> <td> 0.000</td> <td>  152.727</td> <td>  181.273</td>\n",
       "</tr>\n",
       "<tr>\n",
       "  <th>Treat_d</th>   <td>  -29.0000</td> <td>    8.754</td> <td>   -3.313</td> <td> 0.011</td> <td>  -49.186</td> <td>   -8.814</td>\n",
       "</tr>\n",
       "<tr>\n",
       "  <th>Post_t</th>    <td>  -49.0000</td> <td>    7.581</td> <td>   -6.464</td> <td> 0.000</td> <td>  -66.481</td> <td>  -31.519</td>\n",
       "</tr>\n",
       "<tr>\n",
       "  <th>TreatPost</th> <td>   20.5000</td> <td>   10.721</td> <td>    1.912</td> <td> 0.092</td> <td>   -4.222</td> <td>   45.222</td>\n",
       "</tr>\n",
       "</table>\n",
       "<table class=\"simpletable\">\n",
       "<tr>\n",
       "  <th>Omnibus:</th>       <td> 1.065</td> <th>  Durbin-Watson:     </th> <td>   1.668</td>\n",
       "</tr>\n",
       "<tr>\n",
       "  <th>Prob(Omnibus):</th> <td> 0.587</td> <th>  Jarque-Bera (JB):  </th> <td>   0.856</td>\n",
       "</tr>\n",
       "<tr>\n",
       "  <th>Skew:</th>          <td> 0.548</td> <th>  Prob(JB):          </th> <td>   0.652</td>\n",
       "</tr>\n",
       "<tr>\n",
       "  <th>Kurtosis:</th>      <td> 2.285</td> <th>  Cond. No.          </th> <td>    8.44</td>\n",
       "</tr>\n",
       "</table>"
      ],
      "text/plain": [
       "<class 'statsmodels.iolib.summary.Summary'>\n",
       "\"\"\"\n",
       "                            OLS Regression Results                            \n",
       "==============================================================================\n",
       "Dep. Variable:                    Ydt   R-squared:                       0.891\n",
       "Model:                            OLS   Adj. R-squared:                  0.850\n",
       "Method:                 Least Squares   F-statistic:                     21.71\n",
       "Date:                Wed, 10 Jun 2020   Prob (F-statistic):           0.000337\n",
       "Time:                        21:59:43   Log-Likelihood:                -40.628\n",
       "No. Observations:                  12   AIC:                             89.26\n",
       "Df Residuals:                       8   BIC:                             91.20\n",
       "Df Model:                           3                                         \n",
       "Covariance Type:            nonrobust                                         \n",
       "==============================================================================\n",
       "                 coef    std err          t      P>|t|      [0.025      0.975]\n",
       "------------------------------------------------------------------------------\n",
       "const        167.0000      6.190     26.980      0.000     152.727     181.273\n",
       "Treat_d      -29.0000      8.754     -3.313      0.011     -49.186      -8.814\n",
       "Post_t       -49.0000      7.581     -6.464      0.000     -66.481     -31.519\n",
       "TreatPost     20.5000     10.721      1.912      0.092      -4.222      45.222\n",
       "==============================================================================\n",
       "Omnibus:                        1.065   Durbin-Watson:                   1.668\n",
       "Prob(Omnibus):                  0.587   Jarque-Bera (JB):                0.856\n",
       "Skew:                           0.548   Prob(JB):                        0.652\n",
       "Kurtosis:                       2.285   Cond. No.                         8.44\n",
       "==============================================================================\n",
       "\n",
       "Warnings:\n",
       "[1] Standard Errors assume that the covariance matrix of the errors is correctly specified.\n",
       "\"\"\""
      ]
     },
     "execution_count": 137,
     "metadata": {},
     "output_type": "execute_result"
    }
   ],
   "source": [
    "import statsmodels.api as sm # import statsmodels\n",
    "X = df2[['Treat_d', 'Post_t', 'TreatPost']] ## X usually means our input variables (or independent variables)\n",
    "y = df2['Ydt'] ## Y usually means our output/dependent variable\n",
    "X = sm.add_constant(X) ## let's add an intercept (alpha) to our model\n",
    "\n",
    "# Note the difference in argument order\n",
    "model = sm.OLS(y, X).fit() ## sm.OLS(output, input)\n",
    "predictions = model.predict(X)\n",
    "\n",
    "# Print out the statistics\n",
    "model.summary()"
   ]
  },
  {
   "cell_type": "markdown",
   "metadata": {},
   "source": [
    "As you can see the coefficients for each model's parameter are:\n",
    "$$\\alpha = 167$$\n",
    "$$\\beta = -29$$\n",
    "$$\\gamma = -49$$\n",
    "$$\\delta_{rDD} = 20.5 $$\n"
   ]
  },
  {
   "cell_type": "markdown",
   "metadata": {},
   "source": [
    "$$Y_{dt}=167 - 29 TREAT_d - 49 POST_t + 20.5(TREAT_d \\times POST_t)+e_{dt}$$"
   ]
  },
  {
   "cell_type": "markdown",
   "metadata": {},
   "source": [
    "### Refrences\n",
    "- Angrist, J. D., & Pischke, J. S. (2014). Mastering'metrics: The path from cause to effect. Princeton University Press.\n",
    "- http://www.masteringmetrics.com/"
   ]
  }
 ],
 "metadata": {
  "kernelspec": {
   "display_name": "Python 2",
   "language": "python",
   "name": "python2"
  },
  "language_info": {
   "codemirror_mode": {
    "name": "ipython",
    "version": 2
   },
   "file_extension": ".py",
   "mimetype": "text/x-python",
   "name": "python",
   "nbconvert_exporter": "python",
   "pygments_lexer": "ipython2",
   "version": "2.7.14"
  }
 },
 "nbformat": 4,
 "nbformat_minor": 2
}
